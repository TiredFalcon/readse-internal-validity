{
 "cells": [
  {
   "cell_type": "markdown",
   "metadata": {},
   "source": [
    "# Processing of survey answers"
   ]
  },
  {
   "cell_type": "code",
   "execution_count": 3,
   "metadata": {},
   "outputs": [],
   "source": [
    "# Imports\n",
    "import numpy as np\n",
    "import pandas as pd\n",
    "import seaborn as sns\n",
    "import matplotlib as plt\n",
    "import json\n",
    "from typing import List"
   ]
  },
  {
   "cell_type": "code",
   "execution_count": 4,
   "metadata": {},
   "outputs": [],
   "source": [
    "# Function to load data\n",
    "def load_raw_data():\n",
    "    raw_data_file = \"raw_data.json\"\n",
    "    with open(raw_data_file) as f:\n",
    "        data = json.load(f)\n",
    "        df = pd.json_normalize(data)\n",
    "\n",
    "    df['from.text'] = df['from.text'].astype('str')\n",
    "    df['to.text'] = df['to.text'].astype('str')\n",
    "    return df"
   ]
  },
  {
   "cell_type": "code",
   "execution_count": 3,
   "metadata": {},
   "outputs": [],
   "source": [
    "# Convert survey responses df with of [questionId, response, academicLevel]\n",
    "def to_qid_res_level(df: pd.DataFrame) -> pd.DataFrame:\n",
    "    # Drop useless rows\n",
    "    df_data = df.drop(index=[0,1])\n",
    "    \n",
    "    # Extract academic status data (responseid -> Qlevel)\n",
    "    academic_status = df_data[['ResponseId', 'Qlevel']].dropna()\n",
    "    \n",
    "    # Remove useless columns and melt responses into one row per question-response pair\n",
    "    df_qid_res = df_data\\\n",
    "        .drop(axis = 'columns', columns = ['RecordedDate', 'Qlevel'])\\\n",
    "        .dropna(how = 'all')\\\n",
    "        .melt(id_vars=['ResponseId'],\n",
    "              var_name=\"qid\",\n",
    "              value_name=\"res\")\\\n",
    "        .dropna()\n",
    "    \n",
    "    # Add academic level column\n",
    "    df_qid_res_level = df_qid_res.merge(academic_status, on = 'ResponseId')\n",
    "    return df_qid_res_level"
   ]
  },
  {
   "cell_type": "code",
   "execution_count": 4,
   "metadata": {},
   "outputs": [],
   "source": [
    "# Convert likert to numeric\n",
    "def to_numeric_likert(df: pd.DataFrame) -> pd.DataFrame:\n",
    "    df['res'] = df['res']\\\n",
    "        .map({\n",
    "            \"Strongly agree\": 1,\n",
    "            \"Somewhat agree\": 2,\n",
    "            \"Neither agree nor disagree\": 3,\n",
    "            \"Somewhat disagree\": 4,\n",
    "            \"Strongly disagree\": 5\n",
    "        })\\\n",
    "        .astype('int')\n",
    "    return df"
   ]
  },
  {
   "cell_type": "code",
   "execution_count": 5,
   "metadata": {},
   "outputs": [],
   "source": [
    "# Convert questions where paragraphs were reversed (their qid has \"-rev\" appended)\n",
    "# This is done by removing the \"-rev\" suffix from the id and inverting the likert response\n",
    "def to_unswapped(df: pd.DataFrame) -> pd.DataFrame:\n",
    "    # Add \"was_rev\" column to indicate whether the question was reversed in the survey\n",
    "    df['was_rev'] = \"\"\n",
    "    # Unswap\n",
    "    def de_swap_qid_res(row):\n",
    "        if (row.qid.endswith('-rev')):\n",
    "            row.qid = row.qid[:-4]\n",
    "            row.res = 6 - row.res\n",
    "            row.was_rev = True\n",
    "        else:\n",
    "            row.was_rev = False\n",
    "        return row\n",
    "    return df.apply(de_swap_qid_res, axis=1, result_type='broadcast')"
   ]
  },
  {
   "cell_type": "code",
   "execution_count": 6,
   "metadata": {},
   "outputs": [],
   "source": [
    "# Remove duplicated responses\n",
    "# In an earlier version of the survey, some users could see both the normal and reversed\n",
    "# version of a question. We remove both to avoid problems.\n",
    "def remove_duplicated_answers(df: pd.DataFrame) -> pd.DataFrame:\n",
    "    id_cols = ['ResponseId', 'qid']\n",
    "    dup_filter = df.duplicated(id_cols, keep=False)\n",
    "    return df[~dup_filter]"
   ]
  },
  {
   "cell_type": "code",
   "execution_count": 7,
   "metadata": {},
   "outputs": [],
   "source": [
    "# Add ground truth columns\n",
    "def add_ground_truth_deltas_and_texts(df: pd.DataFrame, raw_data: pd.DataFrame) -> pd.DataFrame:\n",
    "    cols_to_add = [\n",
    "        '_id',\n",
    "        'freDelta', 'fkglDelta',\n",
    "        'from.text', 'to.text',\n",
    "        'from.readability.fleschReadingEase', 'from.readability.fleschKincaidGradeLevel',\n",
    "        'to.readability.fleschReadingEase', 'to.readability.fleschKincaidGradeLevel',\n",
    "    ]\n",
    "    raw_data_qid_deltas = raw_data[cols_to_add]\\\n",
    "        .rename(columns={\n",
    "        '_id': 'qid',\n",
    "        'from.readability.fleschReadingEase' : 'from.FRE',\n",
    "        'from.readability.fleschKincaidGradeLevel' : 'from.FKG',\n",
    "        'to.readability.fleschReadingEase' : 'to.FRE',\n",
    "        'to.readability.fleschKincaidGradeLevel' : 'to.FKG'\n",
    "    })\n",
    "    return df.merge(raw_data_qid_deltas, on = 'qid')"
   ]
  },
  {
   "cell_type": "code",
   "execution_count": 8,
   "metadata": {},
   "outputs": [],
   "source": [
    "# Map likert [1, 5] -> [-2, 2]\n",
    "def likert_to_delta(df: pd.DataFrame) -> pd.DataFrame:\n",
    "    df['res'] = df['res'].map(lambda x: x - 3)\n",
    "    return df"
   ]
  },
  {
   "cell_type": "code",
   "execution_count": 9,
   "metadata": {},
   "outputs": [],
   "source": [
    "# Process survey answers\n",
    "def process_survey_answers(survey_fname):\n",
    "    with open(survey_fname) as f:\n",
    "        df = pd.read_csv(f);\n",
    "    df_qid_res_level = to_qid_res_level(df)\n",
    "    df_numeric_likert = to_numeric_likert(df_qid_res_level)\n",
    "    df_unswapped = to_unswapped(df_numeric_likert)\n",
    "    df_no_dups = remove_duplicated_answers(df_unswapped)\n",
    "    raw_data_df = load_raw_data()\n",
    "    df_ground_truth_and_texts = add_ground_truth_deltas_and_texts(df_no_dups, raw_data_df)\n",
    "    df_final = likert_to_delta(df_ground_truth_and_texts)\n",
    "    return df_final"
   ]
  },
  {
   "cell_type": "code",
   "execution_count": 10,
   "metadata": {},
   "outputs": [],
   "source": [
    "# Read survey data and write processed data to file\n",
    "def survey_processing() -> pd.DataFrame:\n",
    "    survey_datasets = ['survey_results/survey0.csv', 'survey_results/survey1.csv']\n",
    "    processed = [\n",
    "        process_survey_answers(raw_answers)\n",
    "        for raw_answers\n",
    "        in survey_datasets]\n",
    "    all_data: pd.DataFrame = pd.concat(processed)\n",
    "    return all_data"
   ]
  },
  {
   "cell_type": "code",
   "execution_count": 1,
   "metadata": {},
   "outputs": [
    {
     "ename": "NameError",
     "evalue": "name 'survey_processing' is not defined",
     "output_type": "error",
     "traceback": [
      "\u001b[0;31m---------------------------------------------------------------------------\u001b[0m",
      "\u001b[0;31mNameError\u001b[0m                                 Traceback (most recent call last)",
      "\u001b[0;32m<ipython-input-1-e09dfc8216ac>\u001b[0m in \u001b[0;36m<module>\u001b[0;34m\u001b[0m\n\u001b[1;32m      1\u001b[0m \u001b[0;31m# Process all survey data\u001b[0m\u001b[0;34m\u001b[0m\u001b[0;34m\u001b[0m\u001b[0;34m\u001b[0m\u001b[0m\n\u001b[1;32m      2\u001b[0m \u001b[0moutfname\u001b[0m \u001b[0;34m=\u001b[0m \u001b[0;34m'survey_results_processed.csv'\u001b[0m\u001b[0;34m\u001b[0m\u001b[0;34m\u001b[0m\u001b[0m\n\u001b[0;32m----> 3\u001b[0;31m \u001b[0msurvey_processing\u001b[0m\u001b[0;34m(\u001b[0m\u001b[0;34m)\u001b[0m\u001b[0;34m.\u001b[0m\u001b[0mto_csv\u001b[0m\u001b[0;34m(\u001b[0m\u001b[0moutfname\u001b[0m\u001b[0;34m,\u001b[0m \u001b[0mindex\u001b[0m \u001b[0;34m=\u001b[0m \u001b[0;32mFalse\u001b[0m\u001b[0;34m)\u001b[0m\u001b[0;34m\u001b[0m\u001b[0;34m\u001b[0m\u001b[0m\n\u001b[0m",
      "\u001b[0;31mNameError\u001b[0m: name 'survey_processing' is not defined"
     ]
    }
   ],
   "source": [
    "# Process all survey data\n",
    "outfname = 'survey_results_processed.csv'\n",
    "survey_processing().to_csv(outfname, index = False)"
   ]
  },
  {
   "cell_type": "code",
   "execution_count": null,
   "metadata": {},
   "outputs": [],
   "source": []
  }
 ],
 "metadata": {
  "kernelspec": {
   "display_name": "Python 3",
   "language": "python",
   "name": "python3"
  },
  "language_info": {
   "codemirror_mode": {
    "name": "ipython",
    "version": 3
   },
   "file_extension": ".py",
   "mimetype": "text/x-python",
   "name": "python",
   "nbconvert_exporter": "python",
   "pygments_lexer": "ipython3",
   "version": "3.7.6"
  }
 },
 "nbformat": 4,
 "nbformat_minor": 4
}
